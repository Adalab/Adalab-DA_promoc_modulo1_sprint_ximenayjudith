{
 "cells": [
  {
   "cell_type": "markdown",
   "metadata": {},
   "source": [
    "## Ejerccios lección 4"
   ]
  },
  {
   "cell_type": "code",
   "execution_count": 165,
   "metadata": {},
   "outputs": [],
   "source": [
    "# Cuatro keys que serán: nombres , apellidos, edades, hijos. \n",
    "# Cada una de las keys tendrá un value que será una lista que iremos construyendo con inputs. \n",
    "n1 = input(\"Escribe tres nombres, separados por espacios\")\n",
    "a1 = input(\"Escribe los tres apellidos separados por espacios\")\n",
    "e1 = input(\"Escribe las tres edades separadas por espacios\")\n",
    "h1 = input(\"Escribe el número de hijos/as separados por espacios\")"
   ]
  },
  {
   "cell_type": "code",
   "execution_count": 198,
   "metadata": {},
   "outputs": [
    {
     "data": {
      "text/plain": [
       "'Ana Jose Carlos'"
      ]
     },
     "execution_count": 198,
     "metadata": {},
     "output_type": "execute_result"
    }
   ],
   "source": [
    "n1"
   ]
  },
  {
   "cell_type": "code",
   "execution_count": 199,
   "metadata": {},
   "outputs": [
    {
     "data": {
      "text/plain": [
       "['Ana', 'Jose', 'Carlos']"
      ]
     },
     "execution_count": 199,
     "metadata": {},
     "output_type": "execute_result"
    }
   ],
   "source": [
    "n1list = n1.split()\n",
    "n1list"
   ]
  },
  {
   "cell_type": "code",
   "execution_count": 200,
   "metadata": {},
   "outputs": [
    {
     "data": {
      "text/plain": [
       "['Luna', 'Mora', 'Perez']"
      ]
     },
     "execution_count": 200,
     "metadata": {},
     "output_type": "execute_result"
    }
   ],
   "source": [
    "a1list = a1.split()\n",
    "a1list"
   ]
  },
  {
   "cell_type": "code",
   "execution_count": 201,
   "metadata": {},
   "outputs": [
    {
     "data": {
      "text/plain": [
       "['20', '15', '30']"
      ]
     },
     "execution_count": 201,
     "metadata": {},
     "output_type": "execute_result"
    }
   ],
   "source": [
    "e1list = e1.split()\n",
    "e1list"
   ]
  },
  {
   "cell_type": "code",
   "execution_count": 202,
   "metadata": {},
   "outputs": [
    {
     "data": {
      "text/plain": [
       "['5', '2', '0']"
      ]
     },
     "execution_count": 202,
     "metadata": {},
     "output_type": "execute_result"
    }
   ],
   "source": [
    "h1list = h1.split()\n",
    "h1list"
   ]
  },
  {
   "cell_type": "code",
   "execution_count": 203,
   "metadata": {},
   "outputs": [],
   "source": [
    "diccionario = {\"nombres\" : [n1list] , \"apellidos\" : [a1list] , \"edades\" : [e1list] , \"hijos\" : [h1list] }"
   ]
  },
  {
   "cell_type": "code",
   "execution_count": 204,
   "metadata": {},
   "outputs": [
    {
     "name": "stdout",
     "output_type": "stream",
     "text": [
      "{'nombres': [['Ana', 'Jose', 'Carlos']], 'apellidos': [['Luna', 'Mora', 'Perez']], 'edades': [['20', '15', '30']], 'hijos': [['5', '2', '0']]}\n"
     ]
    }
   ],
   "source": [
    "print (diccionario)"
   ]
  },
  {
   "cell_type": "code",
   "execution_count": 205,
   "metadata": {},
   "outputs": [
    {
     "data": {
      "text/plain": [
       "'1 2 0'"
      ]
     },
     "execution_count": 205,
     "metadata": {},
     "output_type": "execute_result"
    }
   ],
   "source": [
    "# Una vez tengáis creado el diccionario, añadid una nueva key donde tengamos la información sobre el número de hermanos. \n",
    "hermanos1 = input (\"Escribe el número de hermanos separados por espacios\")\n",
    "hermanos1"
   ]
  },
  {
   "cell_type": "code",
   "execution_count": 206,
   "metadata": {},
   "outputs": [
    {
     "name": "stdout",
     "output_type": "stream",
     "text": [
      "['1', '2', '0']\n"
     ]
    }
   ],
   "source": [
    "hermanos1_list = hermanos1.split()\n",
    "print (hermanos1_list)"
   ]
  },
  {
   "cell_type": "code",
   "execution_count": 207,
   "metadata": {},
   "outputs": [],
   "source": [
    "diccionario.update({\"numero_de_hermanos\": hermanos1_list})"
   ]
  },
  {
   "cell_type": "code",
   "execution_count": 208,
   "metadata": {},
   "outputs": [
    {
     "data": {
      "text/plain": [
       "{'nombres': [['Ana', 'Jose', 'Carlos']],\n",
       " 'apellidos': [['Luna', 'Mora', 'Perez']],\n",
       " 'edades': [['20', '15', '30']],\n",
       " 'hijos': [['5', '2', '0']],\n",
       " 'numero_de_hermanos': ['1', '2', '0']}"
      ]
     },
     "execution_count": 208,
     "metadata": {},
     "output_type": "execute_result"
    }
   ],
   "source": [
    "diccionario"
   ]
  },
  {
   "cell_type": "code",
   "execution_count": 209,
   "metadata": {},
   "outputs": [
    {
     "data": {
      "text/plain": [
       "dict_keys(['nombres', 'apellidos', 'edades', 'hijos', 'numero_de_hermanos'])"
      ]
     },
     "execution_count": 209,
     "metadata": {},
     "output_type": "execute_result"
    }
   ],
   "source": [
    "#¿Cúales son las keys de nuestro diccionario? ¿Y los values?\n",
    "diccionario.keys()"
   ]
  },
  {
   "cell_type": "code",
   "execution_count": 210,
   "metadata": {},
   "outputs": [
    {
     "data": {
      "text/plain": [
       "dict_values([[['Ana', 'Jose', 'Carlos']], [['Luna', 'Mora', 'Perez']], [['20', '15', '30']], [['5', '2', '0']], ['1', '2', '0']])"
      ]
     },
     "execution_count": 210,
     "metadata": {},
     "output_type": "execute_result"
    }
   ],
   "source": [
    "diccionario.values()"
   ]
  },
  {
   "cell_type": "code",
   "execution_count": 211,
   "metadata": {},
   "outputs": [
    {
     "data": {
      "text/plain": [
       "[['Ana', 'Jose', 'Carlos']]"
      ]
     },
     "execution_count": 211,
     "metadata": {},
     "output_type": "execute_result"
    }
   ],
   "source": [
    "# Para extraer los values de una key podemos hacerlo de varias formas.\n",
    "# Extraed los valores de la key nombres. Utilizad dos métodos diferentes.\n",
    "    #   1. get\n",
    "diccionario.get(\"nombres\")"
   ]
  },
  {
   "cell_type": "code",
   "execution_count": 212,
   "metadata": {},
   "outputs": [
    {
     "data": {
      "text/plain": [
       "[['Ana', 'Jose', 'Carlos']]"
      ]
     },
     "execution_count": 212,
     "metadata": {},
     "output_type": "execute_result"
    }
   ],
   "source": [
    "    #   2. Keys\n",
    "diccionario [\"nombres\"]"
   ]
  },
  {
   "cell_type": "code",
   "execution_count": 213,
   "metadata": {},
   "outputs": [
    {
     "data": {
      "text/plain": [
       "'Desconocida'"
      ]
     },
     "execution_count": 213,
     "metadata": {},
     "output_type": "execute_result"
    }
   ],
   "source": [
    "# Extraed los valores de la key nacionalidad. En caso de que no exista, cread esa key con el value \"desconocida\".\n",
    "diccionario.setdefault(\"nacionalidad\", 'Desconocida')"
   ]
  },
  {
   "cell_type": "code",
   "execution_count": 214,
   "metadata": {},
   "outputs": [
    {
     "data": {
      "text/plain": [
       "[('apellidos', [['Luna', 'Mora', 'Perez']]),\n",
       " ('edades', [['20', '15', '30']]),\n",
       " ('hijos', [['5', '2', '0']]),\n",
       " ('nacionalidad', 'Desconocida'),\n",
       " ('nombres', [['Ana', 'Jose', 'Carlos']]),\n",
       " ('numero_de_hermanos', ['1', '2', '0'])]"
      ]
     },
     "execution_count": 214,
     "metadata": {},
     "output_type": "execute_result"
    }
   ],
   "source": [
    "# Ordena los elementos del diccionario basandonos en las keys y los values. Esto nos devuelve una lista de tuplas.\n",
    "sorted(diccionario.items())"
   ]
  },
  {
   "cell_type": "code",
   "execution_count": 215,
   "metadata": {},
   "outputs": [],
   "source": [
    "#  Convertid esta lista de tuplas en diccionario.\n",
    "diccionario2 = dict(sorted(diccionario.items()))"
   ]
  },
  {
   "cell_type": "code",
   "execution_count": 216,
   "metadata": {},
   "outputs": [
    {
     "name": "stdout",
     "output_type": "stream",
     "text": [
      "{'apellidos': [['Luna', 'Mora', 'Perez']], 'edades': [['20', '15', '30']], 'hijos': [['5', '2', '0']], 'nacionalidad': 'Desconocida', 'nombres': [['Ana', 'Jose', 'Carlos']], 'numero_de_hermanos': ['1', '2', '0']}\n"
     ]
    }
   ],
   "source": [
    "print (diccionario2)"
   ]
  },
  {
   "cell_type": "code",
   "execution_count": 217,
   "metadata": {},
   "outputs": [
    {
     "data": {
      "text/plain": [
       "'Desconocida'"
      ]
     },
     "execution_count": 217,
     "metadata": {},
     "output_type": "execute_result"
    }
   ],
   "source": [
    "#Eliminad la key de \"nacionalidad\"\n",
    "diccionario.pop(\"nacionalidad\")"
   ]
  },
  {
   "cell_type": "code",
   "execution_count": 218,
   "metadata": {},
   "outputs": [
    {
     "data": {
      "text/plain": [
       "{'nombres': [['Ana', 'Jose', 'Carlos']],\n",
       " 'apellidos': [['Luna', 'Mora', 'Perez']],\n",
       " 'edades': [['20', '15', '30']],\n",
       " 'hijos': [['5', '2', '0']],\n",
       " 'numero_de_hermanos': ['1', '2', '0']}"
      ]
     },
     "execution_count": 218,
     "metadata": {},
     "output_type": "execute_result"
    }
   ],
   "source": [
    "diccionario"
   ]
  },
  {
   "cell_type": "code",
   "execution_count": 219,
   "metadata": {},
   "outputs": [
    {
     "data": {
      "text/plain": [
       "[['5', '2', '0']]"
      ]
     },
     "execution_count": 219,
     "metadata": {},
     "output_type": "execute_result"
    }
   ],
   "source": [
    "#Utilizando métodos de Python. ¿Qué persona tiene mayor nuúmero de hijos? ¿Y quién es la más joven?\n",
    "diccionario[\"hijos\"]"
   ]
  },
  {
   "cell_type": "code",
   "execution_count": 220,
   "metadata": {},
   "outputs": [
    {
     "data": {
      "text/plain": [
       "'5'"
      ]
     },
     "execution_count": 220,
     "metadata": {},
     "output_type": "execute_result"
    }
   ],
   "source": [
    "#¿Qué persona tiene mayor nuúmero de hijos?\n",
    "maxhijos = max(h1list)\n",
    "maxhijos"
   ]
  },
  {
   "cell_type": "code",
   "execution_count": 221,
   "metadata": {},
   "outputs": [
    {
     "data": {
      "text/plain": [
       "0"
      ]
     },
     "execution_count": 221,
     "metadata": {},
     "output_type": "execute_result"
    }
   ],
   "source": [
    "h1list.index(max(h1list))"
   ]
  },
  {
   "cell_type": "code",
   "execution_count": 222,
   "metadata": {},
   "outputs": [
    {
     "data": {
      "text/plain": [
       "'Ana'"
      ]
     },
     "execution_count": 222,
     "metadata": {},
     "output_type": "execute_result"
    }
   ],
   "source": [
    "n1list[h1list.index(max(h1list))]"
   ]
  },
  {
   "cell_type": "code",
   "execution_count": 223,
   "metadata": {},
   "outputs": [
    {
     "name": "stdout",
     "output_type": "stream",
     "text": [
      "Ana es quien tiene el mayor número de hijos/as, Tiene 5 hijos/as.\n"
     ]
    }
   ],
   "source": [
    "print (n1list[h1list.index(max(h1list))] , \"es quien tiene el mayor número de hijos/as, Tiene\", maxhijos, \"hijos/as.\" )"
   ]
  },
  {
   "cell_type": "code",
   "execution_count": 224,
   "metadata": {},
   "outputs": [
    {
     "data": {
      "text/plain": [
       "[['20', '15', '30']]"
      ]
     },
     "execution_count": 224,
     "metadata": {},
     "output_type": "execute_result"
    }
   ],
   "source": [
    "# ¿Y quién es la más joven?\n",
    "diccionario[\"edades\"]"
   ]
  },
  {
   "cell_type": "code",
   "execution_count": 225,
   "metadata": {},
   "outputs": [
    {
     "data": {
      "text/plain": [
       "'15'"
      ]
     },
     "execution_count": 225,
     "metadata": {},
     "output_type": "execute_result"
    }
   ],
   "source": [
    "minedad = min(e1list)\n",
    "minedad"
   ]
  },
  {
   "cell_type": "code",
   "execution_count": 226,
   "metadata": {},
   "outputs": [
    {
     "data": {
      "text/plain": [
       "1"
      ]
     },
     "execution_count": 226,
     "metadata": {},
     "output_type": "execute_result"
    }
   ],
   "source": [
    "e1list.index(minedad)"
   ]
  },
  {
   "cell_type": "code",
   "execution_count": 227,
   "metadata": {},
   "outputs": [
    {
     "data": {
      "text/plain": [
       "'20'"
      ]
     },
     "execution_count": 227,
     "metadata": {},
     "output_type": "execute_result"
    }
   ],
   "source": [
    "e1list[0]"
   ]
  },
  {
   "cell_type": "code",
   "execution_count": 228,
   "metadata": {},
   "outputs": [
    {
     "data": {
      "text/plain": [
       "'Jose'"
      ]
     },
     "execution_count": 228,
     "metadata": {},
     "output_type": "execute_result"
    }
   ],
   "source": [
    "n1list[e1list.index(minedad)]"
   ]
  },
  {
   "cell_type": "code",
   "execution_count": 229,
   "metadata": {},
   "outputs": [
    {
     "name": "stdout",
     "output_type": "stream",
     "text": [
      "Jose es el/la menor, con 15 años.\n"
     ]
    }
   ],
   "source": [
    "print (n1list[e1list.index(minedad)], \"es el/la menor, con\", minedad, \"años.\" )"
   ]
  }
 ],
 "metadata": {
  "kernelspec": {
   "display_name": "Python 3.9.13 ('base')",
   "language": "python",
   "name": "python3"
  },
  "language_info": {
   "codemirror_mode": {
    "name": "ipython",
    "version": 3
   },
   "file_extension": ".py",
   "mimetype": "text/x-python",
   "name": "python",
   "nbconvert_exporter": "python",
   "pygments_lexer": "ipython3",
   "version": "3.9.13"
  },
  "orig_nbformat": 4,
  "vscode": {
   "interpreter": {
    "hash": "f2104d434ce3092b7c07d5af98c90652611c7ad655b2a72b59e9e675e449bc7b"
   }
  }
 },
 "nbformat": 4,
 "nbformat_minor": 2
}
