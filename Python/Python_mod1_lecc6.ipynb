{
 "cells": [
  {
   "cell_type": "markdown",
   "metadata": {},
   "source": [
    "EJERCICIOS LECCION 6 -SENTENCIAS DE CONTROL-"
   ]
  },
  {
   "cell_type": "markdown",
   "metadata": {},
   "source": [
    "1. En la escuela donde trabajamos tienen el siguiente sistema de notas:\n",
    "- Below 25 - F\n",
    "- 25 to 45 - E\n",
    "- 45 to 50 - D\n",
    "- 50 to 60 - C\n",
    "- 60 to 80 - B\n",
    "- Above 80 - A"
   ]
  },
  {
   "cell_type": "code",
   "execution_count": 3,
   "metadata": {},
   "outputs": [
    {
     "name": "stdout",
     "output_type": "stream",
     "text": [
      "90\n",
      "Tu nota es la letra A\n"
     ]
    }
   ],
   "source": [
    "nota = int (input (\"¿Qué nota numérica tienes?\"))\n",
    "print (nota)\n",
    "\n",
    "if nota < 25:\n",
    "    print (\"Tu nota es la letra F\")\n",
    "\n",
    "elif nota < 45:\n",
    "    print (\"Tu nota es la letra E\")\n",
    "\n",
    "elif nota < 50:\n",
    "    print (\"Tu nota es la letra D\")\n",
    "\n",
    "elif nota < 60:\n",
    "    print (\"Tu nota es la letra C\")\n",
    "\n",
    "elif nota < 80:\n",
    "    print (\"Tu nota es la letra B\")\n",
    "\n",
    "else:\n",
    "    print (\"Tu nota es la letra A\")"
   ]
  },
  {
   "cell_type": "markdown",
   "metadata": {},
   "source": [
    "2. Cread tres inputs donde a cada uno de ellos le preguntéis su edad, \n",
    "el objetivo del ejercicio es determinar quien es el más viejo y el más joven."
   ]
  },
  {
   "cell_type": "code",
   "execution_count": 6,
   "metadata": {},
   "outputs": [
    {
     "name": "stdout",
     "output_type": "stream",
     "text": [
      "4\n",
      "7\n",
      "2\n",
      "El usuario 2 es el más viejo.\n",
      "El usuario 3 es el más joven\n"
     ]
    }
   ],
   "source": [
    "\n",
    "edad1 = int (input (\"¿Qué edad tiene el usuario 1?\"))\n",
    "print (edad1)\n",
    "edad2 = int (input (\"¿Qué edad tiene el usuario 2?\"))\n",
    "print (edad2)\n",
    "edad3 = int (input (\"¿Qué edad tiene el usuario 3?\"))\n",
    "print (edad3)\n",
    "\n",
    "if edad1 > edad2:\n",
    "    if edad1 > edad3:\n",
    "        print (\"El usuario 1 es el más viejo.\")\n",
    "        if edad2 > edad3:\n",
    "            print (\"El usuario 3 es el más joven\")\n",
    "        else:\n",
    "            print(\"El usuario 2 es el más joven\")\n",
    "    else:\n",
    "        print (\"El usuario 3 es el más viejo.\")\n",
    "        print (\"El usuario 2 es el más joven.\")\n",
    "else:\n",
    "    if edad2 > edad3:\n",
    "        print (\"El usuario 2 es el más viejo.\")\n",
    "        if edad1 > edad3:\n",
    "            print (\"El usuario 3 es el más joven\")\n",
    "        else:\n",
    "            print (\"El usuario 1 es el más joven\")\n",
    "    else:\n",
    "        print (\"El usuario 3 es el más viejo.\")\n",
    "        print (\"El usuario 1 es el más joven\")"
   ]
  },
  {
   "cell_type": "markdown",
   "metadata": {},
   "source": [
    "3. Escribid un programa que pregunte el nombre del usuario a través de la función input(). \n",
    "Si el nombre es \"Bond\" haced que imprima \"Bienvenido a bordo de 007\". \n",
    "En caso contrario haced que imprima \"Buenos días NOMBRE\". (Reemplace NOMBRE por el nombre del usuario)."
   ]
  },
  {
   "cell_type": "code",
   "execution_count": 13,
   "metadata": {},
   "outputs": [
    {
     "name": "stdout",
     "output_type": "stream",
     "text": [
      "Buenos días, Bond\n"
     ]
    }
   ],
   "source": [
    "nombre = input (\"¿Cuál es tu nombre?\")\n",
    "\n",
    "if nombre == \"Bond\":\n",
    "    print (\"Bienvenido a bordo de 007.\")\n",
    "else:\n",
    "    print (\"Buenos días,\", nombre.capitalize())"
   ]
  },
  {
   "cell_type": "markdown",
   "metadata": {},
   "source": [
    "4. arbol es un diccionario que muestra el número de árboles de países por kilómetro cuadrado para países aleatorios con un número considerable de población. Crea una lista llamada \"masarboles\" que contenga el nombre de los países con más de 40.000 árboles por kilómetro cuadrado.\n",
    "tree = {\"Taiwan\": 69593,\n",
    "        \"Japan\": 49894, \n",
    "        \"Russia\": 41396, \n",
    "        \"Canada\": 36388, \n",
    "        \"Bulgaria\": 24987}"
   ]
  },
  {
   "cell_type": "code",
   "execution_count": 15,
   "metadata": {},
   "outputs": [
    {
     "name": "stdout",
     "output_type": "stream",
     "text": [
      "{'Taiwan': 69593, 'Japan': 49894, 'Russia': 41396, 'Canada': 36388, 'Bulgaria': 24987}\n"
     ]
    }
   ],
   "source": [
    "tree = {\"Taiwan\": 69593,\n",
    "        \"Japan\": 49894, \n",
    "        \"Russia\": 41396, \n",
    "        \"Canada\": 36388, \n",
    "        \"Bulgaria\": 24987}\n",
    "print(tree)       "
   ]
  },
  {
   "cell_type": "code",
   "execution_count": 13,
   "metadata": {},
   "outputs": [
    {
     "data": {
      "text/plain": [
       "[('Taiwan', 69593),\n",
       " ('Japan', 49894),\n",
       " ('Russia', 41396),\n",
       " ('Canada', 36388),\n",
       " ('Bulgaria', 24987)]"
      ]
     },
     "execution_count": 13,
     "metadata": {},
     "output_type": "execute_result"
    }
   ],
   "source": [
    "treelist = list(tree.items())\n",
    "treelist"
   ]
  },
  {
   "cell_type": "code",
   "execution_count": 16,
   "metadata": {},
   "outputs": [
    {
     "data": {
      "text/plain": [
       "5"
      ]
     },
     "execution_count": 16,
     "metadata": {},
     "output_type": "execute_result"
    }
   ],
   "source": [
    "len(treelist)"
   ]
  },
  {
   "cell_type": "code",
   "execution_count": 17,
   "metadata": {},
   "outputs": [
    {
     "data": {
      "text/plain": [
       "('Taiwan', 'Japan', 'Russia', 'Canada', 'Bulgaria')"
      ]
     },
     "execution_count": 17,
     "metadata": {},
     "output_type": "execute_result"
    }
   ],
   "source": [
    "paisesKeys = tuple(tree.keys())\n",
    "paisesKeys"
   ]
  },
  {
   "cell_type": "code",
   "execution_count": 18,
   "metadata": {},
   "outputs": [
    {
     "data": {
      "text/plain": [
       "(69593, 49894, 41396, 36388, 24987)"
      ]
     },
     "execution_count": 18,
     "metadata": {},
     "output_type": "execute_result"
    }
   ],
   "source": [
    "arbolesvalues = tuple(tree.values())\n",
    "arbolesvalues"
   ]
  },
  {
   "cell_type": "code",
   "execution_count": 45,
   "metadata": {},
   "outputs": [
    {
     "name": "stdout",
     "output_type": "stream",
     "text": [
      "('Taiwan', 69593)\n",
      "('Japan', 49894)\n",
      "('Russia', 41396)\n"
     ]
    }
   ],
   "source": [
    "#En esta primera comprobacion vemos que nos da tuplas pero no una lista de los paises que es lo que nos pide el ejercicio, \n",
    "# por lo que la respuesta correcta esta en el siguiente cuadro de codigo. \n",
    "\n",
    "# # if arbolesvalues [0] > 40000:\n",
    "#     print (treelist [0]) \n",
    "\n",
    "# if arbolesvalues [1] > 40000:\n",
    "#     print (treelist [1]) \n",
    "\n",
    "# if arbolesvalues [2] > 40000:\n",
    "#     print (treelist [2])\n",
    "\n",
    "# if arbolesvalues [3] > 40000:\n",
    "#     print (treelist [3])  \n",
    "\n",
    "# if arbolesvalues [4] > 40000:\n",
    "#     print (treelist [4])  \n"
   ]
  },
  {
   "cell_type": "code",
   "execution_count": 25,
   "metadata": {},
   "outputs": [
    {
     "name": "stdout",
     "output_type": "stream",
     "text": [
      "Taiwan\n",
      "Japan\n",
      "Russia\n"
     ]
    }
   ],
   "source": [
    "\n",
    "masarboles = []\n",
    "treelist = list(tree.items())\n",
    "treelist\n",
    "\n",
    "for elemento in treelist:\n",
    "         #print(elemento)\n",
    "         #si el num arboles es > 40000 print el pais\n",
    "         if elemento[1]>40000:\n",
    "                 print(elemento[0])\n",
    "                 masarboles.append(elemento[0])\n",
    "\n",
    "# print(masarboles)  # tengo que salir del bucle for para que no me imprima cada vez que ejecuta la iteracion "
   ]
  },
  {
   "cell_type": "markdown",
   "metadata": {},
   "source": [
    "5. Los alumnos de un curso se han dividido en dos grupos A y B de acuerdo al sexo y el nombre.\n",
    "El grupo A esta formado por las mujeres con un nombre anterior a la M y los hombres con un nombre posterior a la N y el grupo B por el resto. Escribid un programa que pregunte al usuario su nombre y sexo, y muestre por pantalla el grupo que le corresponde."
   ]
  },
  {
   "cell_type": "code",
   "execution_count": 26,
   "metadata": {},
   "outputs": [
    {
     "name": "stdout",
     "output_type": "stream",
     "text": [
      "El alumno juan con el sexo hombre esta en el grupo B\n"
     ]
    }
   ],
   "source": [
    "\n",
    "nombre = input(\"Cual es tu nombre?\")\n",
    "\n",
    "sexo = input(\"Cual es tu sexo?\")\n",
    "\n",
    "letra = list(nombre)[0]\n",
    "\n",
    "if sexo == 'hombre':\n",
    "    if letra.lower() > 'N'.lower(): # El simbolo > < en las letras me indica cual va antes o despues \n",
    "        print('El alumno', nombre, 'con el sexo', sexo, 'esta en el grupo A')\n",
    "    else:\n",
    "        print('El alumno', nombre, 'con el sexo', sexo, 'esta en el grupo B')\n",
    "else:\n",
    "    if letra.lower() < 'M'.lower(): # El simbolo > < en las letras me indica cual va antes o despues \n",
    "        print('El alumno', nombre, 'con el sexo', sexo, 'esta en el grupo A')\n",
    "    else:\n",
    "        print('El alumno', nombre, 'con el sexo', sexo, 'esta en el grupo B')\n",
    "\n"
   ]
  },
  {
   "cell_type": "markdown",
   "metadata": {},
   "source": [
    "6. Escribid un programa que:\n",
    "\n",
    "Dada la variable z con valor 0, es decir z = 0.\n",
    "Mientras que el valor de z sea menor que 3:\n",
    "Si el valor de z es igual a 0:\n",
    "Printead el valor de z\n",
    "Almancenad el valor en una lista auxiliar\n",
    "Sumadle 1 al valor de z\n",
    "Si el valor de z es igual a 1:\n",
    "Printead el valor de z\n",
    "Almancenad el valor en una lista auxiliar\n",
    "Sumadle 1 al valor de z\n",
    "En caso de que no se cumplan las condiciones anteriores:\n",
    "Printead el valor de z\n",
    "Sumadle 1 al valor de z"
   ]
  },
  {
   "cell_type": "code",
   "execution_count": 60,
   "metadata": {},
   "outputs": [
    {
     "data": {
      "text/plain": [
       "0"
      ]
     },
     "execution_count": 60,
     "metadata": {},
     "output_type": "execute_result"
    }
   ],
   "source": [
    "z = 0\n",
    "z"
   ]
  },
  {
   "cell_type": "code",
   "execution_count": 61,
   "metadata": {},
   "outputs": [
    {
     "name": "stdout",
     "output_type": "stream",
     "text": [
      " El valor de z es: 0\n",
      " El valor de z es: 1\n",
      " El valor de z es: 2\n"
     ]
    }
   ],
   "source": [
    "while z < 3:\n",
    "    if z == 0:\n",
    "        print (\" El valor de z es:\" , z)\n",
    "        z += 1\n",
    "    elif z == 1:\n",
    "        print (\" El valor de z es:\" , z)\n",
    "        z += 1\n",
    "    elif z == 2:\n",
    "        print (\" El valor de z es:\" , z)\n",
    "        z += 1\n",
    "    else:\n",
    "        print (\" El valor de z es:\" , z)\n",
    "        z += 1"
   ]
  },
  {
   "cell_type": "markdown",
   "metadata": {},
   "source": [
    "7. El objetivo de este ejercicio es añadir elementos a una lista utilizando el bucle while:\n",
    "Cread una lista vacía\n",
    "Cread una variable cuyo valor sea 0\n",
    "Mientras que la longitud de la lista creada en el primer paso sea menor que 4:\n",
    "Apendead el valor de la variable creada en el paso 2\n",
    "Sumad 1 a la variable creada en el paso 2\n",
    "Por último, printead los valores que hemos añadido en la lista vacía (ya no lo estaría)\n"
   ]
  },
  {
   "cell_type": "code",
   "execution_count": 19,
   "metadata": {},
   "outputs": [
    {
     "name": "stdout",
     "output_type": "stream",
     "text": [
      "[]\n",
      "0\n",
      "[0, 1, 2, 3]\n"
     ]
    }
   ],
   "source": [
    "\n",
    "lista1 = []\n",
    "print([])\n",
    "\n",
    "var1=0\n",
    "print(var1)\n",
    "\n",
    "while len(lista1) < 4 :\n",
    "    lista1.append(var1)\n",
    "    var1 +=1      # var1 ++ // var1 = var1 + 1\n",
    "\n",
    "print(lista1)"
   ]
  },
  {
   "cell_type": "markdown",
   "metadata": {},
   "source": [
    "8. El objetivo de este ejercicio es encontrar la suma de números en una lista usando el bucle while:\n",
    "\n",
    "Cread una variable cuyo valor sea 0, llamadla \"i\"\n",
    "\n",
    "Cread una lista que contenga los siguientes números: 23,45,12,10,25\n",
    "\n",
    "Cread una variable cuyo valor sea 0, llamadla \"suma\"\n",
    "\n",
    "Mientras que el valor de la variable \"i\" sea menor que la longitud de la lista:\n",
    "\n",
    "    Sumad elemento a elemento los valores de la lista. Es decir, el primero con el segundo; el resultado de la suma anterior más el tercer número, etc\n",
    "\n",
    "    Sumad 1 a la variable \"i\" por cada iteración por el bucle while\n",
    "El resultado esperado es 115."
   ]
  },
  {
   "cell_type": "code",
   "execution_count": 3,
   "metadata": {},
   "outputs": [
    {
     "data": {
      "text/plain": [
       "0"
      ]
     },
     "execution_count": 3,
     "metadata": {},
     "output_type": "execute_result"
    }
   ],
   "source": [
    "i = 0\n",
    "i"
   ]
  },
  {
   "cell_type": "code",
   "execution_count": 4,
   "metadata": {},
   "outputs": [
    {
     "data": {
      "text/plain": [
       "[23, 45, 12, 10, 25]"
      ]
     },
     "execution_count": 4,
     "metadata": {},
     "output_type": "execute_result"
    }
   ],
   "source": [
    "lista = [23,45,12,10,25]\n",
    "lista"
   ]
  },
  {
   "cell_type": "code",
   "execution_count": 5,
   "metadata": {},
   "outputs": [
    {
     "data": {
      "text/plain": [
       "0"
      ]
     },
     "execution_count": 5,
     "metadata": {},
     "output_type": "execute_result"
    }
   ],
   "source": [
    "suma = 0 # habria que inicializar suma a 0 --> suma=0 porque si no, sumaria 23 mas de los que debe\n",
    "suma"
   ]
  },
  {
   "cell_type": "code",
   "execution_count": 6,
   "metadata": {},
   "outputs": [
    {
     "data": {
      "text/plain": [
       "5"
      ]
     },
     "execution_count": 6,
     "metadata": {},
     "output_type": "execute_result"
    }
   ],
   "source": [
    "len(lista)"
   ]
  },
  {
   "cell_type": "code",
   "execution_count": 7,
   "metadata": {},
   "outputs": [
    {
     "data": {
      "text/plain": [
       "[23, 45, 12, 10, 25]"
      ]
     },
     "execution_count": 7,
     "metadata": {},
     "output_type": "execute_result"
    }
   ],
   "source": [
    "lista_recortada = lista.copy()\n",
    "lista_recortada"
   ]
  },
  {
   "cell_type": "code",
   "execution_count": 8,
   "metadata": {},
   "outputs": [
    {
     "name": "stdout",
     "output_type": "stream",
     "text": [
      "115\n"
     ]
    }
   ],
   "source": [
    "# Mientras que el valor de la variable \"i\" sea menor que la longitud de la lista:\n",
    "# Sumad elemento a elemento los valores de la lista. Es decir, el primero con el segundo; el resultado de la suma anterior más el tercer número, etc\n",
    "# Sumad 1 a la variable \"i\" por cada iteración por el bucle while. El resultado esperado es 115.\n",
    "\n",
    "while i < len(lista):\n",
    "   i += 1\n",
    "   suma = suma + lista_recortada[-1]   # Se suma el último elemento\n",
    "   del lista_recortada[-1]  # Se van eliminando los últimos elementos de la lista. Con pop imprime el elemento que borra\n",
    "   # print (lista_recortada)\n",
    "print (suma)"
   ]
  },
  {
   "cell_type": "code",
   "execution_count": 20,
   "metadata": {},
   "outputs": [
    {
     "name": "stdout",
     "output_type": "stream",
     "text": [
      "5\n",
      "115\n"
     ]
    }
   ],
   "source": [
    "# No entiendo cómo llega al resultado\n",
    "\n",
    "while i < len(lista):\n",
    "    suma = suma + lista[-1]\n",
    "    i += 1\n",
    "print (i)\n",
    "print (suma)"
   ]
  },
  {
   "cell_type": "markdown",
   "metadata": {},
   "source": [
    "\n",
    "9. Escribid un programa para una empresa que tiene salas de juegos para todas las edades y \n",
    "#quiere calcular de forma automática el precio que debe cobrar a sus clientes por entrar. \n",
    "#El programa debe preguntar al usuario la edad del cliente y mostrar el precio de la entrada. \n",
    "#Si el cliente es menor de 4 años puede entrar gratis, \n",
    "#si tiene entre 4 y 18 años debe pagar 5€ y si es mayor de 18 años, 10€."
   ]
  },
  {
   "cell_type": "code",
   "execution_count": null,
   "metadata": {},
   "outputs": [],
   "source": [
    "\n",
    "edad = int(input(\"Cual es tu edad?\"))\n",
    "print(edad)\n",
    "\n",
    "if edad < 4:\n",
    "    print('Puede entrar gratis')\n",
    "elif  edad <= 18: #and edad > 4:\n",
    "    print('Debe pagar 5 euros')\n",
    "elif edad > 18: #else\n",
    "    print('Debe pagar 10 euros')\n",
    "\n"
   ]
  },
  {
   "cell_type": "markdown",
   "metadata": {},
   "source": [
    "10. La pizzería Bella Napoli ofrece pizzas vegetarianas y no vegetarianas a sus clientes. Los ingredientes para cada tipo de pizza aparecen a continuación.\n",
    "\n",
    "Ingredientes vegetarianos: Pimiento y tofu.\n",
    "\n",
    "Ingredientes no vegetarianos: Peperoni, Jamón y Salmón.\n",
    "\n",
    "Escribid un programa que pregunte al usuario si quiere una pizza vegetariana o no, y en función de su respuesta le muestre un menú con los ingredientes disponibles para que elija. Solo se puede eligir un ingrediente además de la mozzarella y el tomate que están en todas la pizzas. Al final se debe mostrar por pantalla si la pizza elegida es vegetariana o no y todos los ingredientes que lleva."
   ]
  },
  {
   "cell_type": "code",
   "execution_count": 9,
   "metadata": {},
   "outputs": [],
   "source": [
    "ingrediente_veg = \"Pimiento o Tofu\"\n",
    "ingrediente_noveg = \"Peperoni, Jamón o Salmón\"\n"
   ]
  },
  {
   "cell_type": "code",
   "execution_count": 10,
   "metadata": {},
   "outputs": [
    {
     "data": {
      "text/plain": [
       "['mozarella', 'tomate']"
      ]
     },
     "execution_count": 10,
     "metadata": {},
     "output_type": "execute_result"
    }
   ],
   "source": [
    "lista_ingredientes3 = [\"mozarella\", \"tomate\"]\n",
    "lista_ingredientes3"
   ]
  },
  {
   "cell_type": "code",
   "execution_count": 11,
   "metadata": {},
   "outputs": [
    {
     "name": "stdout",
     "output_type": "stream",
     "text": [
      "El menú de ingredientes para tu pizza no vegetariana es Peperoni, Jamón o Salmón\n",
      "Los ingredientes de tu pizza son: ['tofu', 'mozarella', 'tomate']\n"
     ]
    }
   ],
   "source": [
    "if input (\"¿Qué tipo de pizza te apetece: vegetariana o no vegetariana?\") == \"vegetariana\":\n",
    "    print (\"El menú de ingredientes para tu pizza vegetariana es\" , ingrediente_veg)\n",
    "    lista_ingredientes3.insert(0, (input (\"Con pimiento o tofu\")))\n",
    "    print (\"Los ingredientes de tu pizza son:\", lista_ingredientes3)\n",
    "    if (len(lista_ingredientes3)-1) > 2:\n",
    "        print (\"Solo se puede eligir un ingrediente además de la mozzarella y el tomate\")\n",
    "\n",
    "else:\n",
    "    print (\"El menú de ingredientes para tu pizza no vegetariana es\" , ingrediente_noveg) \n",
    "    lista_ingredientes3.insert(0, (input (\"Con peperoni, jamón o salmón\")))\n",
    "    print (\"Los ingredientes de tu pizza son:\", lista_ingredientes3)\n",
    "    if (len(lista_ingredientes3)-1) > 2:\n",
    "        print (\"Solo se puede eligir un ingrediente además de la mozzarella y el tomate\")"
   ]
  }
 ],
 "metadata": {
  "kernelspec": {
   "display_name": "Python 3.10.8 64-bit",
   "language": "python",
   "name": "python3"
  },
  "language_info": {
   "codemirror_mode": {
    "name": "ipython",
    "version": 3
   },
   "file_extension": ".py",
   "mimetype": "text/x-python",
   "name": "python",
   "nbconvert_exporter": "python",
   "pygments_lexer": "ipython3",
   "version": "3.10.8"
  },
  "orig_nbformat": 4,
  "vscode": {
   "interpreter": {
    "hash": "aee8b7b246df8f9039afb4144a1f6fd8d2ca17a180786b69acc140d282b71a49"
   }
  }
 },
 "nbformat": 4,
 "nbformat_minor": 2
}
