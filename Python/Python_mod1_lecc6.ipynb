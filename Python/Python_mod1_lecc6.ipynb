{
 "cells": [
  {
   "cell_type": "markdown",
   "metadata": {},
   "source": [
    "# 1. En la escuela donde trabajamos tienen el siguiente sistema de notas:\n",
    "- Below 25 - F\n",
    "- 25 to 45 - E\n",
    "- 45 to 50 - D\n",
    "- 50 to 60 - C\n",
    "- 60 to 80 - B\n",
    "- Above 80 - A"
   ]
  },
  {
   "cell_type": "code",
   "execution_count": 3,
   "metadata": {},
   "outputs": [
    {
     "name": "stdout",
     "output_type": "stream",
     "text": [
      "90\n",
      "Tu nota es la letra A\n"
     ]
    }
   ],
   "source": [
    "nota = int (input (\"¿Qué nota numérica tienes?\"))\n",
    "print (nota)\n",
    "\n",
    "if nota < 25:\n",
    "    print (\"Tu nota es la letra F\")\n",
    "\n",
    "elif nota < 45:\n",
    "    print (\"Tu nota es la letra E\")\n",
    "\n",
    "elif nota < 50:\n",
    "    print (\"Tu nota es la letra D\")\n",
    "\n",
    "elif nota < 60:\n",
    "    print (\"Tu nota es la letra C\")\n",
    "\n",
    "elif nota < 80:\n",
    "    print (\"Tu nota es la letra B\")\n",
    "\n",
    "else:\n",
    "    print (\"Tu nota es la letra A\")"
   ]
  },
  {
   "cell_type": "code",
   "execution_count": 6,
   "metadata": {},
   "outputs": [
    {
     "name": "stdout",
     "output_type": "stream",
     "text": [
      "4\n",
      "7\n",
      "2\n",
      "El usuario 2 es el más viejo.\n",
      "El usuario 3 es el más joven\n"
     ]
    }
   ],
   "source": [
    "# 2. Cread tres inputs donde a cada uno de ellos le preguntéis su edad, \n",
    "# el objetivo del ejercicio es determinar quien es el más viejo y el más joven.\n",
    "\n",
    "edad1 = int (input (\"¿Qué edad tiene el usuario 1?\"))\n",
    "print (edad1)\n",
    "edad2 = int (input (\"¿Qué edad tiene el usuario 2?\"))\n",
    "print (edad2)\n",
    "edad3 = int (input (\"¿Qué edad tiene el usuario 3?\"))\n",
    "print (edad3)\n",
    "\n",
    "if edad1 > edad2:\n",
    "    if edad1 > edad3:\n",
    "        print (\"El usuario 1 es el más viejo.\")\n",
    "        if edad2 > edad3:\n",
    "            print (\"El usuario 3 es el más joven\")\n",
    "        else:\n",
    "            print(\"El usuario 2 es el más joven\")\n",
    "    else:\n",
    "        print (\"El usuario 3 es el más viejo.\")\n",
    "        print (\"El usuario 2 es el más joven.\")\n",
    "else:\n",
    "    if edad2 > edad3:\n",
    "        print (\"El usuario 2 es el más viejo.\")\n",
    "        if edad1 > edad3:\n",
    "            print (\"El usuario 3 es el más joven\")\n",
    "        else:\n",
    "            print (\"El usuario 1 es el más joven\")\n",
    "    else:\n",
    "        print (\"El usuario 3 es el más viejo.\")\n",
    "        print (\"El usuario 1 es el más joven\")"
   ]
  },
  {
   "cell_type": "code",
   "execution_count": null,
   "metadata": {},
   "outputs": [],
   "source": [
    "# 3. Escribid un programa que pregunte el nombre del usuario a través de la función input(). \n",
    "# Si el nombre es \"Bond\" haced que imprima \"Bienvenido a bordo de 007\". \n",
    "# En caso contrario haced que imprima \"Buenos días NOMBRE\". (Reemplace NOMBRE por el nombre del usuario)."
   ]
  },
  {
   "cell_type": "code",
   "execution_count": 13,
   "metadata": {},
   "outputs": [
    {
     "name": "stdout",
     "output_type": "stream",
     "text": [
      "Buenos días, Bond\n"
     ]
    }
   ],
   "source": [
    "nombre = input (\"¿Cuál es tu nombre?\")\n",
    "\n",
    "if nombre == \"Bond\":\n",
    "    print (\"Bienvenido a bordo de 007.\")\n",
    "else:\n",
    "    print (\"Buenos días,\", nombre.capitalize())"
   ]
  },
  {
   "cell_type": "markdown",
   "metadata": {},
   "source": [
    "4. arbol es un diccionario que muestra el número de árboles de países por kilómetro cuadrado para países aleatorios con un número considerable de población. Crea una lista llamada \"masarboles\" que contenga el nombre de los países con más de 40.000 árboles por kilómetro cuadrado.\n",
    "tree = {\"Taiwan\": 69593,\n",
    "        \"Japan\": 49894, \n",
    "        \"Russia\": 41396, \n",
    "        \"Canada\": 36388, \n",
    "        \"Bulgaria\": 24987}"
   ]
  },
  {
   "cell_type": "code",
   "execution_count": 21,
   "metadata": {},
   "outputs": [],
   "source": [
    "tree = {\"Taiwan\": 69593,\n",
    "        \"Japan\": 49894, \n",
    "        \"Russia\": 41396, \n",
    "        \"Canada\": 36388, \n",
    "        \"Bulgaria\": 24987}"
   ]
  },
  {
   "cell_type": "code",
   "execution_count": 42,
   "metadata": {},
   "outputs": [
    {
     "data": {
      "text/plain": [
       "[('Taiwan', 69593),\n",
       " ('Japan', 49894),\n",
       " ('Russia', 41396),\n",
       " ('Canada', 36388),\n",
       " ('Bulgaria', 24987)]"
      ]
     },
     "execution_count": 42,
     "metadata": {},
     "output_type": "execute_result"
    }
   ],
   "source": [
    "treelist = list(tree.items())\n",
    "treelist"
   ]
  },
  {
   "cell_type": "code",
   "execution_count": 44,
   "metadata": {},
   "outputs": [
    {
     "data": {
      "text/plain": [
       "5"
      ]
     },
     "execution_count": 44,
     "metadata": {},
     "output_type": "execute_result"
    }
   ],
   "source": [
    "len(treelist)"
   ]
  },
  {
   "cell_type": "code",
   "execution_count": 22,
   "metadata": {},
   "outputs": [
    {
     "data": {
      "text/plain": [
       "('Taiwan', 'Japan', 'Russia', 'Canada', 'Bulgaria')"
      ]
     },
     "execution_count": 22,
     "metadata": {},
     "output_type": "execute_result"
    }
   ],
   "source": [
    "paisesKeys = tuple(tree.keys())\n",
    "paisesKeys"
   ]
  },
  {
   "cell_type": "code",
   "execution_count": 23,
   "metadata": {},
   "outputs": [
    {
     "data": {
      "text/plain": [
       "(69593, 49894, 41396, 36388, 24987)"
      ]
     },
     "execution_count": 23,
     "metadata": {},
     "output_type": "execute_result"
    }
   ],
   "source": [
    "arbolesvalues = tuple(tree.values())\n",
    "arbolesvalues"
   ]
  },
  {
   "cell_type": "code",
   "execution_count": 45,
   "metadata": {},
   "outputs": [
    {
     "name": "stdout",
     "output_type": "stream",
     "text": [
      "('Taiwan', 69593)\n",
      "('Japan', 49894)\n",
      "('Russia', 41396)\n"
     ]
    }
   ],
   "source": [
    "if arbolesvalues [0] > 40000:\n",
    "    print (treelist [0]) \n",
    "\n",
    "if arbolesvalues [1] > 40000:\n",
    "    print (treelist [1]) \n",
    "\n",
    "if arbolesvalues [2] > 40000:\n",
    "    print (treelist [2])\n",
    "\n",
    "if arbolesvalues [3] > 40000:\n",
    "    print (treelist [3])  \n",
    "\n",
    "if arbolesvalues [4] > 40000:\n",
    "    print (treelist [4])  \n"
   ]
  },
  {
   "cell_type": "code",
   "execution_count": null,
   "metadata": {},
   "outputs": [],
   "source": [
    "#5Los alumnos de un curso se han dividido en dos grupos A y B de acuerdo al sexo y el nombre. \n",
    "# El grupo A esta formado por las mujeres con un nombre anterior a la M y los hombres con un nombre posterior a la N y el grupo B por el resto. \n",
    "# Escribid un programa que pregunte al usuario su nombre y sexo, y muestre por pantalla el grupo que le corresponde.\n",
    "\n",
    "\n",
    "nombre = input(\"Cual es tu nombre?\")\n",
    "print(nombre)\n",
    "\n",
    "sexo = input(\"Cual es tu sexo?\")\n",
    "print(sexo)\n",
    "\n",
    "if sexo == 'hombre':\n",
    "    letra = nombre.split()\n",
    "    si la letra del nombre esta entre la A y la N\n",
    "        Estoy en el grupo A\n",
    "    y si no\n",
    "        Estoy en el grupo B\n",
    "else:\n",
    "    saber la letra del nombre\n",
    "    si la letra del nombre esta entre la A y la N\n",
    "        Estoy en el grupo A\n",
    "    y si no\n",
    "        Estoy en el grupo B"
   ]
  },
  {
   "cell_type": "markdown",
   "metadata": {},
   "source": [
    "6. Escribid un programa que:\n",
    "Dada la variable z con valor 0, es decir z = 0.\n",
    "Mientras que el valor de z sea menor que 3:\n",
    "Si el valor de z es igual a 0:\n",
    "Printead el valor de z\n",
    "Almancenad el valor en una lista auxiliar\n",
    "Sumadle 1 al valor de z\n",
    "Si el valor de z es igual a 1:\n",
    "Printead el valor de z\n",
    "Almancenad el valor en una lista auxiliar\n",
    "Sumadle 1 al valor de z\n",
    "En caso de que no se cumplan las condiciones anteriores:\n",
    "Printead el valor de z\n",
    "Sumadle 1 al valor de z"
   ]
  },
  {
   "cell_type": "code",
   "execution_count": 60,
   "metadata": {},
   "outputs": [
    {
     "data": {
      "text/plain": [
       "0"
      ]
     },
     "execution_count": 60,
     "metadata": {},
     "output_type": "execute_result"
    }
   ],
   "source": [
    "z = 0\n",
    "z"
   ]
  },
  {
   "cell_type": "code",
   "execution_count": 61,
   "metadata": {},
   "outputs": [
    {
     "name": "stdout",
     "output_type": "stream",
     "text": [
      " El valor de z es: 0\n",
      " El valor de z es: 1\n",
      " El valor de z es: 2\n"
     ]
    }
   ],
   "source": [
    "while z < 3:\n",
    "    if z == 0:\n",
    "        print (\" El valor de z es:\" , z)\n",
    "        z += 1\n",
    "    elif z == 1:\n",
    "        print (\" El valor de z es:\" , z)\n",
    "        z += 1\n",
    "    elif z == 2:\n",
    "        print (\" El valor de z es:\" , z)\n",
    "        z += 1\n",
    "    else:\n",
    "        print (\" El valor de z es:\" , z)\n",
    "        z += 1"
   ]
  },
  {
   "cell_type": "code",
   "execution_count": null,
   "metadata": {},
   "outputs": [],
   "source": [
    "#.7 El objetivo de este ejercicio es añadir elementos a una lista utilizando el bucle while:\n",
    "#Cread una lista vacía\n",
    "#Cread una variable cuyo valor sea 0\n",
    "#Mientras que la longitud de la lista creada en el primer paso sea menor que 4:\n",
    "#Apendead el valor de la variable creada en el paso 2\n",
    "#Sumad 1 a la variable creada en el paso 2\n",
    "#Por último, printead los valores que hemos añadido en la lista vacía (ya no lo estaría)\n",
    "\n",
    "lista1 = []\n",
    "print([])\n",
    "\n",
    "var1=0\n",
    "print(var1)\n",
    "\n",
    "while len(lista1) < 4 :\n",
    "    lista1.append(var1)\n",
    "    var1 +=1 # var1 ++    , var1 = var1 + 1\n",
    "\n",
    "print(lista1)"
   ]
  },
  {
   "cell_type": "markdown",
   "metadata": {},
   "source": [
    "8. El objetivo de este ejercicio es encontrar la suma de números en una lista usando el bucle while:\n",
    "\n",
    "Cread una variable cuyo valor sea 0, llamadla \"i\"\n",
    "\n",
    "Cread una lista que contenga los siguientes números: 23,45,12,10,25\n",
    "\n",
    "Cread una variable cuyo valor sea 0, llamadla \"suma\"\n",
    "\n",
    "Mientras que el valor de la variable \"i\" sea menor que la longitud de la lista:\n",
    "\n",
    "    Sumad elemento a elemento los valores de la lista. Es decir, el primero con el segundo; el resultado de la suma anterior más el tercer número, etc\n",
    "\n",
    "    Sumad 1 a la variable \"i\" por cada iteración por el bucle while\n",
    "El resultado esperado es 115."
   ]
  },
  {
   "cell_type": "code",
   "execution_count": 101,
   "metadata": {},
   "outputs": [
    {
     "data": {
      "text/plain": [
       "0"
      ]
     },
     "execution_count": 101,
     "metadata": {},
     "output_type": "execute_result"
    }
   ],
   "source": [
    "i = 0\n",
    "i"
   ]
  },
  {
   "cell_type": "code",
   "execution_count": 102,
   "metadata": {},
   "outputs": [
    {
     "data": {
      "text/plain": [
       "[23, 45, 12, 10, 25]"
      ]
     },
     "execution_count": 102,
     "metadata": {},
     "output_type": "execute_result"
    }
   ],
   "source": [
    "lista = [23,45,12,10,25]\n",
    "lista"
   ]
  },
  {
   "cell_type": "code",
   "execution_count": 109,
   "metadata": {},
   "outputs": [
    {
     "data": {
      "text/plain": [
       "23"
      ]
     },
     "execution_count": 109,
     "metadata": {},
     "output_type": "execute_result"
    }
   ],
   "source": [
    "suma = lista [0]\n",
    "suma"
   ]
  },
  {
   "cell_type": "code",
   "execution_count": 104,
   "metadata": {},
   "outputs": [
    {
     "data": {
      "text/plain": [
       "5"
      ]
     },
     "execution_count": 104,
     "metadata": {},
     "output_type": "execute_result"
    }
   ],
   "source": [
    "len(lista)"
   ]
  },
  {
   "cell_type": "code",
   "execution_count": 105,
   "metadata": {},
   "outputs": [
    {
     "name": "stdout",
     "output_type": "stream",
     "text": [
      "45\n",
      "45\n",
      "45\n",
      "45\n",
      "45\n"
     ]
    }
   ],
   "source": [
    "# Mientras que el valor de la variable \"i\" sea menor que la longitud de la lista:\n",
    "# Sumad elemento a elemento los valores de la lista. Es decir, el primero con el segundo; el resultado de la suma anterior más el tercer número, etc\n",
    "# Sumad 1 a la variable \"i\" por cada iteración por el bucle while. El resultado esperado es 115.\n",
    "\n",
    "while i < len(lista):\n",
    "    print (suma)\n",
    "    i += 1 "
   ]
  },
  {
   "cell_type": "code",
   "execution_count": 106,
   "metadata": {},
   "outputs": [
    {
     "data": {
      "text/plain": [
       "False"
      ]
     },
     "execution_count": 106,
     "metadata": {},
     "output_type": "execute_result"
    }
   ],
   "source": [
    "i < len(lista)"
   ]
  },
  {
   "cell_type": "code",
   "execution_count": null,
   "metadata": {},
   "outputs": [],
   "source": [
    "\n",
    "#9.Escribid un programa para una empresa que tiene salas de juegos para todas las edades y \n",
    "#quiere calcular de forma automática el precio que debe cobrar a sus clientes por entrar. \n",
    "#El programa debe preguntar al usuario la edad del cliente y mostrar el precio de la entrada. \n",
    "#Si el cliente es menor de 4 años puede entrar gratis, \n",
    "#si tiene entre 4 y 18 años debe pagar 5€ y si es mayor de 18 años, 10€.\n",
    "\n",
    "\n",
    "edad = int(input(\"Cual es tu edad?\"))\n",
    "print(edad)\n",
    "\n",
    "if edad < 4:\n",
    "    print('Puede entrar gratis')\n",
    "elif  edad <= 18: #and edad > 4:\n",
    "    print('Debe pagar 5 euros')\n",
    "elif edad > 18: #else\n",
    "    print('Debe pagar 10 euros')\n",
    "\n",
    "\n",
    "\n",
    "\n",
    "\n"
   ]
  },
  {
   "cell_type": "markdown",
   "metadata": {},
   "source": [
    "10. La pizzería Bella Napoli ofrece pizzas vegetarianas y no vegetarianas a sus clientes. Los ingredientes para cada tipo de pizza aparecen a continuación.\n",
    "\n",
    "Ingredientes vegetarianos: Pimiento y tofu.\n",
    "\n",
    "Ingredientes no vegetarianos: Peperoni, Jamón y Salmón.\n",
    "\n",
    "Escribid un programa que pregunte al usuario si quiere una pizza vegetariana o no, y en función de su respuesta le muestre un menú con los ingredientes disponibles para que elija. Solo se puede eligir un ingrediente además de la mozzarella y el tomate que están en todas la pizzas. Al final se debe mostrar por pantalla si la pizza elegida es vegetariana o no y todos los ingredientes que lleva."
   ]
  },
  {
   "cell_type": "code",
   "execution_count": null,
   "metadata": {},
   "outputs": [],
   "source": [
    "nombre_pizza = input (\"Ingrese el ingrediente\")\n",
    "\n"
   ]
  },
  {
   "cell_type": "code",
   "execution_count": 127,
   "metadata": {},
   "outputs": [
    {
     "data": {
      "text/plain": [
       "('Pimiento', 'Tofu')"
      ]
     },
     "execution_count": 127,
     "metadata": {},
     "output_type": "execute_result"
    }
   ],
   "source": [
    "Ingredientes_vegetarianos = \"Pimiento\",\"Tofu\"\n",
    "Ingredientes_vegetarianos"
   ]
  },
  {
   "cell_type": "code",
   "execution_count": 128,
   "metadata": {},
   "outputs": [
    {
     "data": {
      "text/plain": [
       "('Peperoni', 'Jamón', 'Salmón')"
      ]
     },
     "execution_count": 128,
     "metadata": {},
     "output_type": "execute_result"
    }
   ],
   "source": [
    "Ingredientes_no_vegetarianos = \"Peperoni\", \"Jamón\" , \"Salmón\"\n",
    "Ingredientes_no_vegetarianos"
   ]
  },
  {
   "cell_type": "code",
   "execution_count": 133,
   "metadata": {},
   "outputs": [],
   "source": [
    "lista_ingredientes = [\"Mozzarella\", \"Tomate\"]"
   ]
  },
  {
   "cell_type": "code",
   "execution_count": null,
   "metadata": {},
   "outputs": [],
   "source": [
    "pregunta1 = input (\"¿Qué tipo de pizza te apetece: vegetariana o no?\")"
   ]
  },
  {
   "cell_type": "code",
   "execution_count": 149,
   "metadata": {},
   "outputs": [
    {
     "name": "stdout",
     "output_type": "stream",
     "text": [
      "Una pizza no vegetariana con:\n",
      "Los ingredientes de tu pizza son:\n",
      "['Mozzarella', 'Tomate', 'jamon', 'jamon', 'jamon', 'jamon', '']\n"
     ]
    }
   ],
   "source": [
    "if input (\"¿Qué tipo de pizza te apetece: vegetariana o no?\") == \"vegetariana\":\n",
    "    print (\"Vegetariana con pimiento o tofu?\")\n",
    "    if input (\"Escribe el ingrediente\") == \"pimiento\" or \"tofu\":\n",
    "        print (\"Los ingredientes de tu pizza son:\", lista_ingredientes)\n",
    "        lista_ingredientes()\n",
    "        if len(lista_ingredientes) > 3:\n",
    "            print (\"Solo se puede eligir un ingrediente además de la mozzarella y el tomate\")\n",
    "\n",
    "else:\n",
    "    print (\"Una pizza no vegetariana con:\")\n",
    "    if input (\"¿peperoni, jamón o salmón?\")== \"Peperoni\" or \"Jamón\" or \"Salmón\":\n",
    "        print (\"Los ingredientes de tu pizza son:\")\n",
    "        print (lista_ingredientes)\n",
    "        if len(lista_ingredientes) > 10:\n",
    "            print (\"Solo se puede eligir un ingrediente además de la mozzarella y el tomate\")"
   ]
  },
  {
   "cell_type": "code",
   "execution_count": null,
   "metadata": {},
   "outputs": [],
   "source": [
    "if input (\"¿Qué tipo de pizza te apetece: vegetariana o no?\") == \"vegetariana\":\n",
    "    print (\"Vegetariana con pimiento o tofu?\")\n",
    "    if input (\"Escribe el ingrediente\") == \"pimiento\" or \"tofu\":\n",
    "        print (\"Los ingredientes de tu pizza son:\", lista_ingredientes)\n",
    "        lista_ingredientes.append(\"\")\n",
    "        if len(lista_ingredientes) > 3:\n",
    "            print (\"Solo se puede eligir un ingrediente además de la mozzarella y el tomate\")\n",
    "\n",
    "elif input (\"¿Qué tipo de pizza te apetece: vegetariana o no?\") == \"no\":\n",
    "    print (\"¿Qué ingredientes prefieres peperoni, jamón o salmón?\")\n",
    "    print (Ingredientes_no_vegetarianos)\n",
    "    if input (\"Escribe el ingrediente\") == \"peperoni\" or \"jamón\" or \"salmón\":\n",
    "        print (\"Los ingredientes de tu pizza son:\")\n",
    "        lista_ingredientes.append()\n",
    "        if len(lista_ingredientes) > 3:\n",
    "            print (\"Solo se puede eligir un ingrediente además de la mozzarella y el tomate\")"
   ]
  }
 ],
 "metadata": {
  "kernelspec": {
   "display_name": "Python 3.10.8 64-bit",
   "language": "python",
   "name": "python3"
  },
  "language_info": {
   "codemirror_mode": {
    "name": "ipython",
    "version": 3
   },
   "file_extension": ".py",
   "mimetype": "text/x-python",
   "name": "python",
   "nbconvert_exporter": "python",
   "pygments_lexer": "ipython3",
   "version": "3.10.8"
  },
  "orig_nbformat": 4,
  "vscode": {
   "interpreter": {
    "hash": "aee8b7b246df8f9039afb4144a1f6fd8d2ca17a180786b69acc140d282b71a49"
   }
  }
 },
 "nbformat": 4,
 "nbformat_minor": 2
}
