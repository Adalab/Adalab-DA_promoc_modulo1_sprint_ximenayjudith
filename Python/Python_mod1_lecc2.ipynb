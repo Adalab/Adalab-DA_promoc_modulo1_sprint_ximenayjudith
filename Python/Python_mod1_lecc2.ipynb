{
 "cells": [
  {
   "cell_type": "markdown",
   "metadata": {},
   "source": [
    "# Ejercicios lección 2 . Listas 1"
   ]
  },
  {
   "cell_type": "markdown",
   "metadata": {},
   "source": [
    "EJERCICIO 1 \n",
    "\n",
    "Usando la función input, cread un programa que pregunte al usuario por el nombre de tres amig@s"
   ]
  },
  {
   "cell_type": "code",
   "execution_count": 16,
   "metadata": {},
   "outputs": [
    {
     "data": {
      "text/plain": [
       "['ana', 'rosa', 'manuel']"
      ]
     },
     "execution_count": 16,
     "metadata": {},
     "output_type": "execute_result"
    }
   ],
   "source": [
    "nombreamigo1= input(\"Dime el nombre de un amigo\")\n",
    "nombreamigo2= input(\"Dime el nombre de otro amigo\")\n",
    "nombreamigo3= input(\"Dime el nombre de otro amigo\")\n",
    "\n",
    "nombre_de_amigos = [nombreamigo1, nombreamigo2, nombreamigo3]\n",
    "list(nombre_de_amigos)\n",
    "\n",
    "#Otra opcion seria: lista_amigos = input('Dime el nombre de tres amigos separados por espacios').split()"
   ]
  },
  {
   "cell_type": "markdown",
   "metadata": {},
   "source": [
    "EJERCICIO 2\n",
    "\n",
    "Almacenad los resultados del paso anterior en una lista. 💡💡\n",
    "Pista Tendréis que usar métodos de los strings que aprendimos en la lección anterior"
   ]
  },
  {
   "cell_type": "code",
   "execution_count": null,
   "metadata": {},
   "outputs": [],
   "source": [
    "nombre_de_amigos = [nombreamigo1, nombreamigo2, nombreamigo3]"
   ]
  },
  {
   "cell_type": "markdown",
   "metadata": {},
   "source": [
    "EJERCICIO 3\n",
    "\n",
    "Usando la función input, cread un programa que ahora le pregunte al usuario por las alturas de sus amig@s. Y almacenar los resultados en una lista.\n",
    "Esto os devolverá una lista de strings similar a esta:\n",
    "lista_alturas = ['1.45', ' 1.67', ' 1.57']\n",
    "Nos interesa que las alturas estén en tipo  float para eso, ejecutad el siguiente código. No es necesario que lo entendáis, es un concepto más avanzado que aprenderemos en las siguientes lecciones.\n",
    "lista_alturas = [float(i) for i in lista_alturas]"
   ]
  },
  {
   "cell_type": "code",
   "execution_count": 1,
   "metadata": {},
   "outputs": [
    {
     "name": "stdout",
     "output_type": "stream",
     "text": [
      "[3.0, 2.0, 4.0]\n"
     ]
    }
   ],
   "source": [
    "alturaamigo1= input(\"Dime la altura de un amigo\")\n",
    "alturaamigo2= input(\"Dime la altura de otro amigo\")\n",
    "alturaamigo3= input(\"Dime la altura de otro amigo\")\n",
    "\n",
    "#Otra opcion sería: lista_amigos = input('Dime el nombre de tres amigos separados por espacios').split()\n",
    "\n",
    "altura_de_amigos = [alturaamigo1, alturaamigo2, alturaamigo3]\n",
    "lista_alturas = [float(i) for i in altura_de_amigos] # Si mi lista altura_de_amigos es [1,2,5] con i=0 lista_alturas[0]=float(altura_de_amigos[0])\n",
    "print(lista_alturas)"
   ]
  },
  {
   "cell_type": "markdown",
   "metadata": {},
   "source": [
    "EJERCICIO 4\n",
    "\n",
    "Ordenad las dos listas de mayor a menor. ¿Lo podréis hacer para la lista de nombres?"
   ]
  },
  {
   "cell_type": "code",
   "execution_count": 17,
   "metadata": {},
   "outputs": [
    {
     "name": "stdout",
     "output_type": "stream",
     "text": [
      "['ana', 'manuel', 'rosa']\n",
      "['4', '3', '2']\n"
     ]
    }
   ],
   "source": [
    "nombre_de_amigos.sort(reverse=True)\n",
    "print(nombre_de_amigos)\n",
    "\n",
    "altura_de_amigos.sort(reverse=True)\n",
    "print(altura_de_amigos)"
   ]
  },
  {
   "cell_type": "markdown",
   "metadata": {},
   "source": [
    "EJERCICIO 5 \n",
    "\n",
    "¿Cuál es la altura máxima de todos nuestros amig@os?"
   ]
  },
  {
   "cell_type": "code",
   "execution_count": 21,
   "metadata": {},
   "outputs": [
    {
     "name": "stdout",
     "output_type": "stream",
     "text": [
      "4\n"
     ]
    }
   ],
   "source": [
    "altura_max = max(altura_de_amigos)\n",
    "print(altura_max)\n",
    "\n",
    "#max no es un metodo de la clase lista por ello no es .max ()\n"
   ]
  },
  {
   "cell_type": "markdown",
   "metadata": {},
   "source": [
    "EJERCICIO 6\n",
    "\n",
    "¿Y la mínima?"
   ]
  },
  {
   "cell_type": "code",
   "execution_count": 22,
   "metadata": {},
   "outputs": [
    {
     "name": "stdout",
     "output_type": "stream",
     "text": [
      "2\n"
     ]
    }
   ],
   "source": [
    "altura_min = min(altura_de_amigos)\n",
    "print(altura_min)"
   ]
  },
  {
   "cell_type": "markdown",
   "metadata": {},
   "source": [
    "EJERCICIO 7 \n",
    "\n",
    "Dadas las siguientes listas:\n",
    "- lista1 = [44, 55, 67, 44, 98, 29]\n",
    "- lista2 = [34, 56, 56, 78, 67, 56]"
   ]
  },
  {
   "cell_type": "code",
   "execution_count": 23,
   "metadata": {},
   "outputs": [],
   "source": [
    "lista1 = [44, 55, 67, 44, 98, 29] \n",
    "lista2 = [34, 56, 56, 78, 67, 56]"
   ]
  },
  {
   "cell_type": "markdown",
   "metadata": {},
   "source": [
    "7.1 Unid las dos listas de forma que consigamos el siguiente output. Almacenad los resultados en una nueva variable \n",
    "y llamadla lista_lista.\n",
    "\n",
    "lista_lista = [[44, 55, 67, 44, 98, 29], [34, 56, 56, 78, 67, 56]]"
   ]
  },
  {
   "cell_type": "code",
   "execution_count": 27,
   "metadata": {},
   "outputs": [
    {
     "name": "stdout",
     "output_type": "stream",
     "text": [
      "[[44, 55, 67, 44, 98, 29], [34, 56, 56, 78, 67, 56]]\n"
     ]
    }
   ],
   "source": [
    "lista_lista = [lista1,lista2]\n",
    "print(lista_lista)"
   ]
  },
  {
   "cell_type": "markdown",
   "metadata": {},
   "source": [
    "7.2 Unid las dos listas de forma que consigamos el siguiente output. Almacenad los resultados en una nueva variable y llamadla lista_numeros.\n",
    "lista_numeros = [44, 55, 67, 44, 98, 29, 34, 56, 56, 78, 67, 56]"
   ]
  },
  {
   "cell_type": "code",
   "execution_count": 39,
   "metadata": {},
   "outputs": [
    {
     "name": "stdout",
     "output_type": "stream",
     "text": [
      "[44, 55, 67, 44, 98, 29, 34, 56, 56, 78, 67, 56]\n"
     ]
    }
   ],
   "source": [
    "lista_numeros = lista1 + lista2\n",
    "print(lista_numeros)"
   ]
  },
  {
   "cell_type": "markdown",
   "metadata": {},
   "source": [
    "EJERCICIO 8\n",
    "\n",
    "De la lista lista_lista, ¿cuántas veces aparece el número 67? ¿y en la lista lista_numeros.\n",
    "Justificad por qué salen números diferentes"
   ]
  },
  {
   "cell_type": "code",
   "execution_count": 34,
   "metadata": {},
   "outputs": [
    {
     "name": "stdout",
     "output_type": "stream",
     "text": [
      "El valor del primer count es:  0 El valor del segundo count es:  2\n"
     ]
    }
   ],
   "source": [
    "count1 =lista_lista.count(67)\n",
    "\n",
    "\n",
    "count2 = lista_numeros.count(67)\n",
    "print('El valor del primer count es: ',count1,'El valor del segundo count es: ', count2)\n",
    "\n",
    "# Los valores son diferentes porque en la variable count 1 es una lista de listas,\n",
    "# por lo que cuenta únicamente el número de veces que se repite 67 en la primera lista.\n",
    "# Mientras que la varible count 2 es una sola lista con todos los datos de las lista1 y lista2."
   ]
  },
  {
   "cell_type": "markdown",
   "metadata": {},
   "source": [
    "EJERCICIO 9\n",
    "\n",
    "Usando la lista_numeros, dadle la vuelta a la lista."
   ]
  },
  {
   "cell_type": "code",
   "execution_count": 40,
   "metadata": {},
   "outputs": [
    {
     "name": "stdout",
     "output_type": "stream",
     "text": [
      "[56, 67, 78, 56, 56, 34, 29, 98, 44, 67, 55, 44]\n"
     ]
    }
   ],
   "source": [
    "lista_numeros.reverse()\n",
    "print(lista_numeros)\n",
    "\n",
    "# reverse ordena de la más actual a la más antigua. Si quisieramos orenar de menor a mayor\n",
    "# o de mayor a menor podríamos usar el método .sort()"
   ]
  }
 ],
 "metadata": {
  "kernelspec": {
   "display_name": "Python 3.6.9 64-bit",
   "language": "python",
   "name": "python3"
  },
  "language_info": {
   "codemirror_mode": {
    "name": "ipython",
    "version": 3
   },
   "file_extension": ".py",
   "mimetype": "text/x-python",
   "name": "python",
   "nbconvert_exporter": "python",
   "pygments_lexer": "ipython3",
   "version": "3.6.9"
  },
  "orig_nbformat": 4,
  "vscode": {
   "interpreter": {
    "hash": "31f2aee4e71d21fbe5cf8b01ff0e069b9275f58929596ceb00d14d90e3e16cd6"
   }
  }
 },
 "nbformat": 4,
 "nbformat_minor": 2
}
