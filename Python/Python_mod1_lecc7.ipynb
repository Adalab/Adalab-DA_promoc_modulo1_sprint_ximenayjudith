{
 "cells": [
  {
   "cell_type": "markdown",
   "metadata": {},
   "source": [
    "EJERCICIOS LECCION 7 - BUCLES FOR-"
   ]
  },
  {
   "cell_type": "markdown",
   "metadata": {},
   "source": [
    "EJERCICIO 1\n",
    "\n",
    "1.Escribid un programa que pregunte al usuario una cantidad a invertir, el interés anual y el número de años, \n",
    "y muestre por pantalla el capital obtenido en la inversión cada año que dura la inversión."
   ]
  },
  {
   "cell_type": "code",
   "execution_count": 52,
   "metadata": {},
   "outputs": [
    {
     "name": "stdout",
     "output_type": "stream",
     "text": [
      "El capital obtenido en el ano  1  es: 525.0\n",
      "El capital obtenido en el ano  2  es: 525.0\n"
     ]
    }
   ],
   "source": [
    "\n",
    "# for i in lista: >Para cada elemento i en la lista 'lista'\n",
    "\n",
    "capital = int(input('Dime que cantidad quieres invertir'))\n",
    "interes = float(input('Dime que cantidad quieres invertir'))\n",
    "time = int(input('Dime que cantidad quieres invertir'))\n",
    "\n",
    "#Tengo que obtener la cantidad obtenida por cada ano que dura la inversion \n",
    "for ano in range(1,time+1):\n",
    "  capital_anual = (capital + (capital*interes/100))/time\n",
    "  print('El capital obtenido en el ano ',ano,' es:', capital_anual)   \n",
    "  # Tengo que devolver el dato que me solicita y para ello imprimo en cada iteracion del bucle "
   ]
  },
  {
   "cell_type": "markdown",
   "metadata": {},
   "source": [
    "EJERCICIO 2\n",
    "\n",
    "Escribid un programa en el que se pregunte al usuario por una frase y una letra, \n",
    "y muestre por pantalla el número de veces que aparece la letra en la frase."
   ]
  },
  {
   "cell_type": "code",
   "execution_count": 53,
   "metadata": {},
   "outputs": [
    {
     "name": "stdout",
     "output_type": "stream",
     "text": [
      "2\n"
     ]
    }
   ],
   "source": [
    "\n",
    "\n",
    "frase= input(\"Digame una frase\")\n",
    "letra= input(\"Digame una letra\")\n",
    "\n",
    "letras_encontradas=0\n",
    "\n",
    "for caracter in frase:\n",
    "    if letra == caracter:\n",
    "        letras_encontradas += 1 #letras_encontradas = leras_encontradas + 1\n",
    "\n",
    "print(letras_encontradas)   # Tengo que devolver el total de letras por lo que printeo una vez que finalice el bucle. \n"
   ]
  },
  {
   "cell_type": "markdown",
   "metadata": {},
   "source": [
    "EJERCICIO 3 \n",
    "\n",
    "Escribid un programa que nos devuelva la tabla de multiplicar de un número especificado en una función inpuT."
   ]
  },
  {
   "cell_type": "code",
   "execution_count": 2,
   "metadata": {},
   "outputs": [
    {
     "name": "stdout",
     "output_type": "stream",
     "text": [
      "1 x 1 = 1\n",
      "2 x 1 = 2\n",
      "3 x 1 = 3\n",
      "4 x 1 = 4\n",
      "5 x 1 = 5\n",
      "6 x 1 = 6\n",
      "7 x 1 = 7\n",
      "8 x 1 = 8\n",
      "9 x 1 = 9\n",
      "10 x 1 = 10\n"
     ]
    }
   ],
   "source": [
    "#3.Escribid un programa que nos devuelva la tabla de multiplicar de un número especificado en una función input\n",
    "\n",
    "numero = int(input(\"Escriba un número\"))\n",
    "\n",
    "for num in range(1,11):\n",
    "    print(num, \"x\", numero, \"=\", num*numero)"
   ]
  },
  {
   "cell_type": "markdown",
   "metadata": {},
   "source": [
    "EJERCICIO 4 \n",
    "\n",
    "4.Dada la siguinte lista de números:\n",
    "numbers = [12, 75, 150, 180, 145, 525, 50]\n",
    "\n",
    "Escribid un programa que muestre sólo los números de una lista que cumplan las siguientes condiciones\n",
    "El número debe ser divisible entre cinco\n",
    "Si el número es mayor que 150, se salta y se pasa al siguiente número\n",
    "Si el número es mayor que 500, entonces detenga el bucle\n"
   ]
  },
  {
   "cell_type": "code",
   "execution_count": 38,
   "metadata": {},
   "outputs": [
    {
     "name": "stdout",
     "output_type": "stream",
     "text": [
      "75\n",
      "150\n",
      "180\n",
      "pass\n",
      "145\n",
      "525\n",
      "break\n"
     ]
    }
   ],
   "source": [
    "\n",
    "\n",
    "for num in numbers:\n",
    "    if num%5 ==0:    #Tambien se podria hacer if ultimoDigito(num) == 0 or ultimoDigito(num) ==5:\n",
    "        print(num)\n",
    "        if 150 < num < 500:\n",
    "            print('pass')\n",
    "            pass\n",
    "        elif num >500:\n",
    "            print('break')\n",
    "            break\n",
    "\n",
    "\n"
   ]
  },
  {
   "cell_type": "markdown",
   "metadata": {},
   "source": [
    "EJERCICIO 5 \n",
    "\n",
    "Dada la siguiente lista:\n",
    "list1 = [10, 20, 30, 40, 50]\n",
    "Imprimir la lista en orden inverso"
   ]
  },
  {
   "cell_type": "code",
   "execution_count": 9,
   "metadata": {},
   "outputs": [
    {
     "name": "stdout",
     "output_type": "stream",
     "text": [
      "[10, 20, 30, 40, 50]\n",
      "[50, 40, 30, 20, 10]\n"
     ]
    }
   ],
   "source": [
    "\n",
    "list1 = [10, 20, 30, 40, 50]\n",
    "print(list1)\n",
    "\n",
    "list1.sort(reverse=True)\n",
    "print(list1)\n"
   ]
  },
  {
   "cell_type": "markdown",
   "metadata": {},
   "source": [
    "EJERCICIO 6 \n",
    "\n",
    "Dado el siguiente código\n",
    "for i in ['1','2','3']:\n",
    "print (i**2)\n",
    "Usando un try ... except, cread un programa para evitar que nos de un error el código anterior. \n",
    "En su lugar, si se encuentra un error, deberéis poner el código necesario para que no nos devuelva error."
   ]
  },
  {
   "cell_type": "code",
   "execution_count": 39,
   "metadata": {},
   "outputs": [
    {
     "name": "stdout",
     "output_type": "stream",
     "text": [
      "1\n",
      "4\n",
      "9\n"
     ]
    }
   ],
   "source": [
    "# HEMOS DETERMINADO DOS SOLUCIONES, AMBAS CORRECTAS:\n",
    "\n",
    "# for i in ['1','2','3']:\n",
    "#     try:                      \n",
    "#         print (i**2)\n",
    "#     except:\n",
    "#         a = [int(i) for i in ['1','2','3']] # a = [1,2,3] \n",
    "# for i in a:\n",
    "#     print (i**2)\n",
    "\n",
    "\n",
    "for i in ['1','2','3']:\n",
    "    try:\n",
    "        print (i**2)\n",
    "    except:\n",
    "        print (int(i)**2)\n",
    "\n"
   ]
  }
 ],
 "metadata": {
  "kernelspec": {
   "display_name": "Python 3.10.8 64-bit",
   "language": "python",
   "name": "python3"
  },
  "language_info": {
   "codemirror_mode": {
    "name": "ipython",
    "version": 3
   },
   "file_extension": ".py",
   "mimetype": "text/x-python",
   "name": "python",
   "nbconvert_exporter": "python",
   "pygments_lexer": "ipython3",
   "version": "3.10.8"
  },
  "orig_nbformat": 4,
  "vscode": {
   "interpreter": {
    "hash": "aee8b7b246df8f9039afb4144a1f6fd8d2ca17a180786b69acc140d282b71a49"
   }
  }
 },
 "nbformat": 4,
 "nbformat_minor": 2
}
